{
  "cells": [
    {
      "cell_type": "markdown",
      "metadata": {
        "id": "view-in-github",
        "colab_type": "text"
      },
      "source": [
        "<a href=\"https://colab.research.google.com/github/m-wessler/nbm-verification/blob/main/CoLab_Familiarization_Metadata_Pull.ipynb\" target=\"_parent\"><img src=\"https://colab.research.google.com/assets/colab-badge.svg\" alt=\"Open In Colab\"/></a>"
      ]
    },
    {
      "cell_type": "code",
      "source": [
        "!pip install cartopy"
      ],
      "metadata": {
        "id": "ppoSGGqlv-nZ"
      },
      "execution_count": null,
      "outputs": []
    },
    {
      "cell_type": "code",
      "execution_count": null,
      "metadata": {
        "id": "-tS-tEKGsdPx"
      },
      "outputs": [],
      "source": [
        "import json\n",
        "import requests\n",
        "import numpy as np\n",
        "import pandas as pd\n",
        "from matplotlib import pyplot as plt"
      ]
    },
    {
      "cell_type": "code",
      "execution_count": null,
      "metadata": {
        "id": "g8yfAdZRsivH"
      },
      "outputs": [],
      "source": [
        "token = '' #@param {type:'string'}\n",
        "cwa = '' #@param {type:'string'}\n",
        "network = 'select network' #@param ['select network', 'NWS', 'NWS+RAWS', 'NWS+RAWS+HADS', 'NWS', 'RAWS', 'HADS', 'ALL'] {type:'string'}\n",
        "variable = 'select variable' #@param ['select variable', 'air_temp' ,'precip', 'humidity', 'wind', 'gust', 'snow', 'cloud'] {type:'string'}"
      ]
    },
    {
      "cell_type": "code",
      "execution_count": null,
      "metadata": {
        "id": "VGWhlSP-zo9d"
      },
      "outputs": [],
      "source": [
        "metadata_api = 'https://api.synopticdata.com/v2/stations/metadata?'\n",
        "\n",
        "# Convert named network to Synoptic API numeric network IDs (see docs)\n",
        "synoptic_networks = {\n",
        "    \"NWS+RAWS+HADS\":\"1,2,106\",\n",
        "    \"NWS+RAWS\":\"1,2\",\n",
        "    \"NWS\":\"1\",\n",
        "    \"RAWS\": \"2\",\n",
        "    \"HADS\":\"106\",\n",
        "    \"ALL\":None}\n",
        "\n",
        "network_query = (f\"&network={synoptic_networks[network]}\"\n",
        "                 if synoptic_networks[network] is not None else '')\n",
        "\n",
        "# Assemble the API query\n",
        "api_query = (f\"{metadata_api}&token={token}&cwa={cwa}\" + network_query +\n",
        "            f\"&complete=1&sensorvars=1,obrange=20230118\")\n",
        "\n",
        "# Print the API query to output\n",
        "print(api_query)\n",
        "\n",
        "# Get the data from the API\n",
        "response = requests.get(api_query)\n",
        "metadata = pd.DataFrame(response.json()['STATION'])\n",
        "\n",
        "# Remove NaNs and index by network, station ID\n",
        "metadata = metadata[metadata['MNET_SHORTNAME'].notna()]\n",
        "metadata = metadata.set_index(['MNET_SHORTNAME', 'STID'])\n",
        "\n",
        "metadata['LATITUDE'] = metadata['LATITUDE'].astype(float)\n",
        "metadata['LONGITUDE'] = metadata['LONGITUDE'].astype(float)\n",
        "metadata['ELEVATION'] = metadata['ELEVATION'].astype(float)\n",
        "\n",
        "metadata = metadata[metadata['LATITUDE'] >= 31]\n",
        "metadata = metadata[metadata['LONGITUDE'] <= -103.00]\n",
        "metadata = metadata[metadata['STATUS'] == 'ACTIVE']\n",
        "\n",
        "variable_mask = np.array([i for i, md in enumerate(metadata['SENSOR_VARIABLES'])\n",
        "                                if variable in str(md.keys())])\n",
        "\n",
        "metadata = metadata.iloc[variable_mask]\n",
        "\n",
        "print(metadata.shape)\n",
        "metadata.head()"
      ]
    },
    {
      "cell_type": "code",
      "execution_count": null,
      "metadata": {
        "id": "vxXzUDA31p4x"
      },
      "outputs": [],
      "source": [
        "network_names = metadata.index.get_level_values(0).unique()\n",
        "\n",
        "print('Station Counts:')\n",
        "for nn in network_names:\n",
        "    print(nn, metadata.loc[nn, :].shape[0])"
      ]
    },
    {
      "cell_type": "code",
      "execution_count": null,
      "metadata": {
        "id": "omwdTBG14oTn"
      },
      "outputs": [],
      "source": [
        "print('Station Elevations:')\n",
        "\n",
        "fig, axs = plt.subplots(network_names.size, 1, sharex=True,\n",
        "                        figsize=(8, 1.5*network_names.size))\n",
        "axs = axs.flatten()\n",
        "\n",
        "for i, nn in enumerate(network_names):\n",
        "    axs[i].hist(metadata.loc[nn, :]['ELEVATION'],\n",
        "             bins=np.arange(0, np.ceil(metadata.ELEVATION.max()/1000)*1000, 500),\n",
        "                edgecolor='k', alpha=0.5, width=475,\n",
        "             label=f'{nn} ({metadata.loc[nn, :].shape[0]})')\n",
        "    axs[i].grid(zorder=-1)\n",
        "    axs[i].set_xlim(left=0)\n",
        "    axs[i].legend()\n",
        "\n",
        "axs[i].set_xlabel('Elevation (ft)')\n",
        "\n",
        "fig.subplots_adjust(hspace=0.1)\n",
        "plt.show()"
      ]
    },
    {
      "cell_type": "code",
      "source": [
        "import geopandas as gpd\n",
        "import matplotlib as mpl\n",
        "import cartopy.crs as ccrs\n",
        "import cartopy.feature as cfeature\n",
        "import matplotlib.pyplot as plt\n",
        "from cartopy.io.img_tiles import GoogleTiles\n",
        "from mpl_toolkits.axes_grid1 import make_axes_locatable\n",
        "\n",
        "geo_metadata = gpd.GeoDataFrame(metadata,\n",
        "                                geometry=gpd.points_from_xy(\n",
        "                                    metadata.LONGITUDE, metadata.LATITUDE),\n",
        "                                crs=\"EPSG:4326\")\n",
        "\n",
        "cmap = mpl.cm.terrain\n",
        "vmin = np.floor(metadata.ELEVATION.min()/1000)*1000\n",
        "vmax = np.ceil(metadata.ELEVATION.max()/1000)*1000\n",
        "norm = mpl.colors.Normalize(vmin=vmin, vmax=vmax)\n",
        "\n",
        "markers = [\",\",\"o\",\"v\",\"^\",\"<\",\">\",\n",
        "           \"1\",\"2\",\"3\",\"4\",\"8\",\"s\",\"p\",\"P\",\"*\",\"h\",\n",
        "           \"H\",\"+\",\"x\",\"X\",\"D\",\"d\",\"|\",\"_\",\n",
        "           0,1,2,3,4,5,6,7,8,9,10,11,\n",
        "           \",\",\"o\",\"v\",\"^\",\"<\",\">\",\n",
        "           \"1\",\"2\",\"3\",\"4\",\"8\",\"s\",\"p\",\"P\",\"*\",\"h\",\n",
        "           \"H\",\"+\",\"x\",\"X\",\"D\",\"d\",\"|\",\"_\",\n",
        "           0,1,2,3,4,5,6,7,8,9,10,11]\n",
        "\n",
        "# Create a figure and axes object\n",
        "fig = plt.figure(figsize=(12, 12))\n",
        "ax = fig.add_subplot(1, 1, 1, projection=ccrs.PlateCarree())\n",
        "\n",
        "for i, nn in enumerate(network_names):\n",
        "    geo_metadata.loc[nn, :].plot(column='ELEVATION', ax=ax, zorder=10,\n",
        "                    markersize=75, marker=markers[i], label=nn,\n",
        "                    vmin=vmin, vmax=vmax, cmap=cmap, norm=norm)\n",
        "\n",
        "\n",
        "# # Add state boundaries\n",
        "ax.add_feature(cfeature.LAND.with_scale('50m'))\n",
        "ax.add_feature(cfeature.OCEAN.with_scale('50m'))\n",
        "ax.add_feature(cfeature.LAKES.with_scale('50m'))\n",
        "ax.add_feature(cfeature.STATES.with_scale('50m'))\n",
        "ax.coastlines()\n",
        "\n",
        "if network_names.size <= 5:\n",
        "    plt.legend()\n",
        "\n",
        "# cb = ax.get_children()[2]\n",
        "plt.colorbar(cb, ax=ax, shrink=0.5, label='Elevation (ft)')\n",
        "\n",
        "plt.title(f'{cwa.upper()} Stations ({network})')\n",
        "\n",
        "plt.show()"
      ],
      "metadata": {
        "id": "wcVlGMn-giTZ"
      },
      "execution_count": null,
      "outputs": []
    }
  ],
  "metadata": {
    "colab": {
      "provenance": [],
      "authorship_tag": "ABX9TyM4yAJIQUNF78mrXD+BVQIh",
      "include_colab_link": true
    },
    "kernelspec": {
      "display_name": "Python 3",
      "name": "python3"
    },
    "language_info": {
      "name": "python"
    }
  },
  "nbformat": 4,
  "nbformat_minor": 0
}